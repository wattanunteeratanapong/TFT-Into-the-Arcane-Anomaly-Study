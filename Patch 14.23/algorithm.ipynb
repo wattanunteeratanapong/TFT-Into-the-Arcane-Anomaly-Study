{
 "cells": [
  {
   "cell_type": "code",
   "execution_count": 1,
   "id": "6fab2f37-199b-41ea-9f77-9850d2e9e7c6",
   "metadata": {},
   "outputs": [],
   "source": [
    "# Patch 14.23 (Dependent Trial)\n",
    "# TFT Anomaly Study\n",
    "# The anomaly that have already been roll are not gonna appear again in the pool"
   ]
  },
  {
   "cell_type": "code",
   "execution_count": 2,
   "id": "fcf9c3d4-b1f1-4f31-b8d7-932d422a74fe",
   "metadata": {},
   "outputs": [],
   "source": [
    "import random"
   ]
  },
  {
   "cell_type": "code",
   "execution_count": 3,
   "id": "40f883c8-1bfd-4ee6-844e-09d4ccf2d51b",
   "metadata": {},
   "outputs": [],
   "source": [
    "# In this patch there are 60 Anomalies avaliblel, Given that anomaly that we are looking for is 1 out of 60\n",
    "anomaly_pool = [1, 2, 3, 4, 5, 6, 7, 8, 9, 10, 11, 12, 13, 14, 15, 16, 17, 18, 19, 20, 21, 22, 23, 24, 25, 26, 27, 28, 29, 30, 31, 32, 33, 34, 35, 36, 37, 38, 39, 40, 41, 42, 43, 44, 45, 46, 47, 48, 49, 50, 51, 52, 53, 54, 55, 56, 57, 58, 59, 60]\n",
    "target_anomaly = 1"
   ]
  },
  {
   "cell_type": "code",
   "execution_count": 4,
   "id": "0e5af0ab-8555-454f-8a0b-310b77e58dc7",
   "metadata": {},
   "outputs": [
    {
     "name": "stdout",
     "output_type": "stream",
     "text": [
      "Anomaly Found!\n",
      "Found targeted anomaly on trial :  37\n"
     ]
    }
   ],
   "source": [
    "trial = 1\n",
    "while anomaly_pool:  \n",
    "    random_anomaly = random.choice(anomaly_pool)  \n",
    "    anomaly_pool.remove(random_anomaly)  \n",
    "    if random_anomaly == target_anomaly:\n",
    "        print(\"Anomaly Found!\")\n",
    "        print(\"Found targeted anomaly on trial : \", trial)\n",
    "        break\n",
    "    else:\n",
    "        trial += 1"
   ]
  }
 ],
 "metadata": {
  "kernelspec": {
   "display_name": "Python 3 (ipykernel)",
   "language": "python",
   "name": "python3"
  },
  "language_info": {
   "codemirror_mode": {
    "name": "ipython",
    "version": 3
   },
   "file_extension": ".py",
   "mimetype": "text/x-python",
   "name": "python",
   "nbconvert_exporter": "python",
   "pygments_lexer": "ipython3",
   "version": "3.8.19"
  }
 },
 "nbformat": 4,
 "nbformat_minor": 5
}
